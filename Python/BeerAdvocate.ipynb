{
  "nbformat": 4,
  "nbformat_minor": 0,
  "metadata": {
    "accelerator": "GPU",
    "colab": {
      "name": "BeerAdvocate.ipynb",
      "provenance": [],
      "collapsed_sections": []
    },
    "kernelspec": {
      "display_name": "Python 3",
      "name": "python3"
    },
    "language_info": {
      "name": "python"
    }
  },
  "cells": [
    {
      "cell_type": "code",
      "metadata": {
        "colab": {
          "base_uri": "https://localhost:8080/"
        },
        "id": "y3Slo_lJbsIc",
        "outputId": "d8f339af-1498-4cb5-fc36-1cbf25c3de84"
      },
      "source": [
        "from google.colab import drive\n",
        "drive.mount('/content/drive')"
      ],
      "execution_count": null,
      "outputs": [
        {
          "output_type": "stream",
          "name": "stdout",
          "text": [
            "Mounted at /content/drive\n"
          ]
        }
      ]
    },
    {
      "cell_type": "code",
      "metadata": {
        "id": "n2SJhgllvKKG"
      },
      "source": [
        "import requests as req\n",
        "import pandas as pd\n",
        "from bs4 import BeautifulSoup\n",
        "import time\n",
        "import re\n",
        "import io\n",
        "import random\n",
        "from random import randint"
      ],
      "execution_count": 2,
      "outputs": []
    },
    {
      "cell_type": "code",
      "metadata": {
        "colab": {
          "base_uri": "https://localhost:8080/"
        },
        "id": "WTf8wKq-vMxW",
        "outputId": "cd5a18c8-9ee6-4b43-f865-ecac9d6f08ed"
      },
      "source": [
        "'''Checking the current IP'''\n",
        "!curl ipecho.net/plain"
      ],
      "execution_count": null,
      "outputs": [
        {
          "output_type": "stream",
          "name": "stdout",
          "text": [
            "34.80.22.124"
          ]
        }
      ]
    },
    {
      "cell_type": "code",
      "metadata": {
        "colab": {
          "base_uri": "https://localhost:8080/"
        },
        "id": "s4NHZYKMvOfX",
        "outputId": "e014067c-74fe-442a-e179-a0d82e3864ad"
      },
      "source": [
        "'''Setting the headers to mimic the human \n",
        "accessing the webpage'''\n",
        "\n",
        "headers = {'User-Agent': 'Mozilla/5.0 (Windows NT 10.0; Win64 x64) AppleWebKit/537.36 (KHTML, like Gecko) Chrome/74.0.3729.169 Safari/537.36'}\n",
        "\n",
        "'''creating a dataframe to store the main \n",
        "attributes of a perfume and their relavant\n",
        "reviews with vote icon information'''\n",
        "r1 = req.get('https://www.beeradvocate.com/beer/top-rated/al/', headers=headers)\n",
        "print(r1)"
      ],
      "execution_count": 3,
      "outputs": [
        {
          "output_type": "stream",
          "name": "stdout",
          "text": [
            "<Response [200]>\n"
          ]
        }
      ]
    },
    {
      "cell_type": "code",
      "metadata": {
        "id": "n5yZ8b5tvRDR"
      },
      "source": [
        "'''Reading the whole webpage to get contents'''\n",
        "'''lxml is a html parser'''\n",
        "soup = BeautifulSoup(r1.content, 'lxml')"
      ],
      "execution_count": 4,
      "outputs": []
    },
    {
      "cell_type": "code",
      "metadata": {
        "colab": {
          "base_uri": "https://localhost:8080/"
        },
        "id": "MvSlgREA8wFc",
        "outputId": "62b6ca59-23b7-4db8-fcf0-d4850450f644"
      },
      "source": [
        "prod_name=[]\n",
        "prod_link=[]\n",
        "base_url = 'https://www.beeradvocate.com/'\n",
        "link = soup.find_all('td', class_=\"hr_bottom_light\", valign=\"top\",align=\"left\")\n",
        "for i in link:\n",
        "  temp =i.find('a',href=True)\n",
        "  '''Brand name'''\n",
        "  if temp != None:\n",
        "    prod_name.append(temp.text)\n",
        "    '''product link'''\n",
        "    prod_link.append(base_url+str(temp).split('\"')[1])\n",
        "\n",
        "print(prod_name)\n",
        "print(prod_link)"
      ],
      "execution_count": 5,
      "outputs": [
        {
          "output_type": "stream",
          "name": "stdout",
          "text": [
            "['Korça Bjonde', 'Birra Tirana']\n",
            "['https://www.beeradvocate.com//beer/profile/17225/44863/', 'https://www.beeradvocate.com//beer/profile/2907/7670/']\n"
          ]
        }
      ]
    },
    {
      "cell_type": "code",
      "metadata": {
        "id": "pEZUAw6Zsv4g"
      },
      "source": [
        "for i in range(0,2):\n",
        "  time.sleep(randint(2,15))\n",
        "  r2 = req.get(prod_link[i], headers=headers)\n",
        "  soup2 = BeautifulSoup(r2.content, 'lxml')\n",
        "  "
      ],
      "execution_count": 6,
      "outputs": []
    },
    {
      "cell_type": "code",
      "metadata": {
        "colab": {
          "base_uri": "https://localhost:8080/"
        },
        "id": "dSuAos37xWL5",
        "outputId": "c51c22d1-3942-4087-cb28-70abd8f5e020"
      },
      "source": [
        "beerstats = soup2.find_all('dl', class_=\"beerstats\")\n",
        "for i in beerstats:\n",
        "\n",
        "  '''Beer Style'''\n",
        "  beer_style = i.find('a', class_=\"Tooltip\").text.strip()\n",
        "\n",
        "  '''ABV'''\n",
        "  ABV = i.find_all('span',class_=\"Tooltip\",title=\"Percentage of alcohol by volume.\")[1].text.strip()\n",
        "\n",
        "  '''SCORE'''\n",
        "  score = i.find('span',class_=\"ba-score Tooltip\" ,title=\"The official BeerAdvocate (BA) Score for this beer.\").text.strip()\n",
        "\n",
        "  '''AVG'''\n",
        "  avg = i.find('span',class_=\"ba-ravg Tooltip\", title=\"The truncated (trimmed) mean across all ratings for this beer.\").text.strip()\n",
        "print(avg)\n",
        "print(str(i))"
      ],
      "execution_count": 53,
      "outputs": [
        {
          "output_type": "stream",
          "name": "stdout",
          "text": [
            "2.9\n",
            "<dl class=\"beerstats\">\n",
            "<dt class=\"beerstats muted\"><span class=\"Tooltip\" title=\"Style category and style ranking (if any).\"><b>Style:</b></span></dt>\n",
            "<dd class=\"beerstats\"><a class=\"Tooltip\" href=\"/beer/styles/37/\" title=\"Learn more about this style.\"><b>Lager - European Pale</b></a><br/><a class=\"Tooltip\" href=\"/beer/top-styles/37/\" title=\"Ranking within the style. Click to view the Top Rated Beers for this style.\">Ranked #327</a></dd>\n",
            "<dt class=\"beerstats muted\"><span class=\"Tooltip\" title=\"Percentage of alcohol by volume.\"><b>ABV:</b></span></dt>\n",
            "<dd class=\"beerstats\"> <span class=\"Tooltip\" title=\"Percentage of alcohol by volume.\"><b>4%</b></span></dd>\n",
            "<dt class=\"beerstats muted\"><span class=\"Tooltip\" title=\"The official BeerAdvocate (BA) Score for this beer.\"><b>Score:</b></span></dt>\n",
            "<dd class=\"beerstats\"><span class=\"ba-score Tooltip\" title=\"The official BeerAdvocate (BA) Score for this beer.\"><b>76</b></span><br/><a class=\"Tooltip\" href=\"/beer/top-rated/\" title=\"Ranking against all beers. Click to view the Top 250 Rated Beers.\">Ranked #49,805</a></dd>\n",
            "<dt class=\"beerstats muted\"><span class=\"Tooltip\" title=\"The truncated (trimmed) mean across all ratings for this beer.\"><b>Avg:</b></span></dt>\n",
            "<dd class=\"beerstats\"><b><span class=\"ba-ravg Tooltip\" title=\"The truncated (trimmed) mean across all ratings for this beer.\">2.9</span></b> | pDev: <span class=\"ba-pdev muted Tooltip\" title=\"Percentage of deviation within the ratings.\">18.28%</span></dd>\n",
            "<dt class=\"beerstats muted\"><span class=\"Tooltip\" title=\"Number of text reviews (150 characters or more) for this beer.\">Reviews:</span></dt>\n",
            "<dd class=\"beerstats\"><span class=\"ba-reviews Tooltip\" title=\"Number of text reviews (150 characters or more) for this beer.\">22</span></dd>\n",
            "<dt class=\"beerstats muted\"><span class=\"Tooltip\" title=\"Number of ratings for this beer.\">Ratings:</span></dt>\n",
            "<dd class=\"beerstats\"><span class=\"ba-ratings Tooltip\" title=\"Number of ratings for this beer.\">33</span></dd>\n",
            "<dt class=\"beerstats muted\"><span class=\"Tooltip\" title=\"Brewed/owned by Birra Tirana.\">From:</span></dt>\n",
            "<dd class=\"beerstats\"><a class=\"Tooltip\" href=\"/beer/profile/2907/\" title=\"View more beers and info from this brewery.\">Birra Tirana</a></dd>\n",
            "<dt class=\"beerstats\"> </dt>\n",
            "<dd class=\"beerstats\"><a href=\"/place/directory/6/AL/\">Albania</a></dd>\n",
            "<dt class=\"beerstats muted\"><span class=\"Tooltip\" title=\"The beer's availability.\">Avail:</span></dt>\n",
            "<dd class=\"beerstats\"><span class=\"Tooltip\" title=\"The beer's availability.\">Year-round</span></dd>\n",
            "<dt class=\"beerstats muted\"><span class=\"Tooltip\" title=\"Add this beer to the list of beers that you want to try or trade.\">Wants</span></dt>\n",
            "<dd class=\"beerstats\"><input ba-action=\"want\" class=\" Tooltip\" onclick=\"document.location.href = '/community/login/?redirect=' + encodeURI('/' + location.pathname.substr(1) + window.location.search)\" title=\"Add this beer to the list of beers that you want to try or trade.\" type=\"checkbox\"/>  <a href=\"/beer/trade/7670/?view=W\"><span class=\"ba-wants Tooltip\" title=\"Number of users who want this beer.\">7</span></a></dd>\n",
            "<dt class=\"beerstats muted\" style=\"border-bottom:1px solid #F0F0F0;\"><span class=\"Tooltip\" title=\"Add this beer to the list of beers that you have in your fridge/cellar or have to trade.\">Gots</span></dt>\n",
            "<dd class=\"beerstats\" style=\"border-bottom:1px solid #F0F0F0;\"><input ba-action=\"got\" class=\"Tooltip\" onclick=\"document.location.href = '/community/login/?redirect=' + encodeURI('/' + location.pathname.substr(1) + window.location.search)\" title=\"Add this beer to the list of beers that you have in your fridge/cellar or have to trade.\" type=\"checkbox\"/>  <a href=\"/beer/trade/7670/?view=G\"><span class=\"ba-gots Tooltip\" title=\"Number of users who have this beer.\">1</span></a></dd>\n",
            "</dl>\n"
          ]
        }
      ]
    },
    {
      "cell_type": "code",
      "metadata": {
        "id": "KNfSWlw7xf0L"
      },
      "source": [
        ""
      ],
      "execution_count": null,
      "outputs": []
    }
  ]
}